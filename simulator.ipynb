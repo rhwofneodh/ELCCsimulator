{
 "cells": [
  {
   "cell_type": "markdown",
   "id": "ba8b5501",
   "metadata": {},
   "source": [
    "#\n",
    "0. Import Necessary Modules\n"
   ]
  },
  {
   "cell_type": "code",
   "execution_count": 3,
   "id": "9328b1b2",
   "metadata": {},
   "outputs": [],
   "source": [
    "import pandas as pd \n",
    "import os\n",
    "import matplotlib.pyplot as plt\n",
    "import matplotlib.ticker as mtick\n",
    "import numpy as np"
   ]
  },
  {
   "cell_type": "markdown",
   "id": "3dec1975",
   "metadata": {},
   "source": [
    "# \n",
    "1. Begin with some visualization of PJM's history with renewable generation"
   ]
  },
  {
   "cell_type": "markdown",
   "id": "f72484ac",
   "metadata": {},
   "source": [
    "#\n",
    "2. Now"
   ]
  }
 ],
 "metadata": {
  "kernelspec": {
   "display_name": "Python 3",
   "language": "python",
   "name": "python3"
  },
  "language_info": {
   "codemirror_mode": {
    "name": "ipython",
    "version": 3
   },
   "file_extension": ".py",
   "mimetype": "text/x-python",
   "name": "python",
   "nbconvert_exporter": "python",
   "pygments_lexer": "ipython3",
   "version": "3.12.0"
  }
 },
 "nbformat": 4,
 "nbformat_minor": 5
}
